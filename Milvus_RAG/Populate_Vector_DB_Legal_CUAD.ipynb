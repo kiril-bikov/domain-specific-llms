{
 "cells": [
  {
   "cell_type": "markdown",
   "id": "7d89d0de",
   "metadata": {},
   "source": [
    "## Script for inserting all Legal CUAD Training data into a Vector Database"
   ]
  },
  {
   "cell_type": "code",
   "execution_count": 3,
   "id": "711618e6",
   "metadata": {},
   "outputs": [],
   "source": [
    "import os\n",
    "os.environ['TRANSFORMERS_CACHE'] = '/home/kmb85/rds/hpc-work/huggingface'"
   ]
  },
  {
   "cell_type": "code",
   "execution_count": 4,
   "id": "61f8cbb0",
   "metadata": {},
   "outputs": [],
   "source": [
    "from datasets import load_dataset"
   ]
  },
  {
   "cell_type": "code",
   "execution_count": 5,
   "id": "b311cfb6",
   "metadata": {},
   "outputs": [],
   "source": [
    "cuad_names = ['cuad_affiliate_license-licensee', 'cuad_affiliate_license-licensor', 'cuad_anti-assignment', 'cuad_audit_rights', 'cuad_cap_on_liability', 'cuad_change_of_control', 'cuad_competitive_restriction_exception', 'cuad_covenant_not_to_sue', 'cuad_effective_date', 'cuad_exclusivity', 'cuad_expiration_date', 'cuad_governing_law', 'cuad_insurance', 'cuad_ip_ownership_assignment', 'cuad_irrevocable_or_perpetual_license', 'cuad_joint_ip_ownership', 'cuad_license_grant', 'cuad_liquidated_damages', 'cuad_minimum_commitment', 'cuad_most_favored_nation', 'cuad_no-solicit_of_customers', 'cuad_no-solicit_of_employees', 'cuad_non-compete', 'cuad_non-disparagement', 'cuad_non-transferable_license', 'cuad_notice_period_to_terminate_renewal', 'cuad_post-termination_services', 'cuad_price_restrictions', 'cuad_renewal_term', 'cuad_revenue-profit_sharing', 'cuad_rofr-rofo-rofn', 'cuad_source_code_escrow', 'cuad_termination_for_convenience', 'cuad_third_party_beneficiary', 'cuad_uncapped_liability', 'cuad_unlimited-all-you-can-eat-license', 'cuad_volume_restriction', 'cuad_warranty_duration']"
   ]
  },
  {
   "cell_type": "code",
   "execution_count": 6,
   "id": "34e7d898",
   "metadata": {},
   "outputs": [
    {
     "name": "stderr",
     "output_type": "stream",
     "text": [
      "/home/kmb85/miniconda3/lib/python3.11/site-packages/datasets/load.py:1429: FutureWarning: The repository for nguha/legalbench contains custom code which must be executed to correctly load the dataset. You can inspect the repository content at https://hf.co/datasets/nguha/legalbench\n",
      "You can avoid this message in future by passing the argument `trust_remote_code=True`.\n",
      "Passing `trust_remote_code=True` will be mandatory to load this dataset from the next major release of `datasets`.\n",
      "  warnings.warn(\n"
     ]
    }
   ],
   "source": [
    "cuad_datasets_train = {}\n",
    "\n",
    "for cuad_name in cuad_names:\n",
    "    cuad_datasets_train[cuad_name] = load_dataset('nguha/legalbench', cuad_name)['train']"
   ]
  },
  {
   "cell_type": "code",
   "execution_count": 7,
   "id": "ac19c717",
   "metadata": {},
   "outputs": [],
   "source": [
    "from datasets import load_dataset, concatenate_datasets\n",
    "\n",
    "combined_cuad_dataset_train = concatenate_datasets(cuad_datasets_train.values())"
   ]
  },
  {
   "cell_type": "code",
   "execution_count": 8,
   "id": "f99982c6",
   "metadata": {},
   "outputs": [],
   "source": [
    "import requests\n",
    "\n",
    "url = \"https://b1b6-131-111-184-110.ngrok-free.app/insert\""
   ]
  },
  {
   "cell_type": "code",
   "execution_count": 13,
   "id": "00c4ff77",
   "metadata": {},
   "outputs": [],
   "source": [
    "for i in range(len(combined_cuad_dataset_train)):\n",
    "    payload = {\n",
    "        \"text\": combined_cuad_dataset_train[i]['text'],\n",
    "        \"answer\": combined_cuad_dataset_train[i]['answer'],\n",
    "    }\n",
    "\n",
    "    requests.post(url, json=payload)"
   ]
  },
  {
   "cell_type": "code",
   "execution_count": null,
   "id": "f14eb1a0",
   "metadata": {},
   "outputs": [],
   "source": []
  }
 ],
 "metadata": {
  "kernelspec": {
   "display_name": "Python 3.11",
   "language": "python",
   "name": "python3.11"
  },
  "language_info": {
   "codemirror_mode": {
    "name": "ipython",
    "version": 3
   },
   "file_extension": ".py",
   "mimetype": "text/x-python",
   "name": "python",
   "nbconvert_exporter": "python",
   "pygments_lexer": "ipython3",
   "version": "3.11.5"
  }
 },
 "nbformat": 4,
 "nbformat_minor": 5
}
