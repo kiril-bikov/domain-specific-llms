{
 "cells": [
  {
   "cell_type": "markdown",
   "id": "7d89d0de",
   "metadata": {},
   "source": [
    "## Script for inserting all Legal Diversity Training data into a Vector Database"
   ]
  },
  {
   "cell_type": "code",
   "execution_count": 1,
   "id": "711618e6",
   "metadata": {},
   "outputs": [],
   "source": [
    "import os\n",
    "os.environ['TRANSFORMERS_CACHE'] = '/home/kmb85/rds/hpc-work/huggingface'"
   ]
  },
  {
   "cell_type": "code",
   "execution_count": 2,
   "id": "61f8cbb0",
   "metadata": {},
   "outputs": [
    {
     "name": "stderr",
     "output_type": "stream",
     "text": [
      "/home/kmb85/miniconda3/lib/python3.11/site-packages/tqdm/auto.py:21: TqdmWarning: IProgress not found. Please update jupyter and ipywidgets. See https://ipywidgets.readthedocs.io/en/stable/user_install.html\n",
      "  from .autonotebook import tqdm as notebook_tqdm\n",
      "/home/kmb85/miniconda3/lib/python3.11/site-packages/transformers/utils/hub.py:123: FutureWarning: Using `TRANSFORMERS_CACHE` is deprecated and will be removed in v5 of Transformers. Use `HF_HOME` instead.\n",
      "  warnings.warn(\n"
     ]
    }
   ],
   "source": [
    "from datasets import load_dataset"
   ]
  },
  {
   "cell_type": "code",
   "execution_count": 3,
   "id": "b311cfb6",
   "metadata": {},
   "outputs": [],
   "source": [
    "diversity_names = ['diversity_1', 'diversity_2', 'diversity_3', 'diversity_4', 'diversity_5', 'diversity_6']"
   ]
  },
  {
   "cell_type": "code",
   "execution_count": 4,
   "id": "34e7d898",
   "metadata": {},
   "outputs": [
    {
     "name": "stderr",
     "output_type": "stream",
     "text": [
      "/home/kmb85/miniconda3/lib/python3.11/site-packages/datasets/load.py:1429: FutureWarning: The repository for nguha/legalbench contains custom code which must be executed to correctly load the dataset. You can inspect the repository content at https://hf.co/datasets/nguha/legalbench\n",
      "You can avoid this message in future by passing the argument `trust_remote_code=True`.\n",
      "Passing `trust_remote_code=True` will be mandatory to load this dataset from the next major release of `datasets`.\n",
      "  warnings.warn(\n"
     ]
    }
   ],
   "source": [
    "diversity_datasets_train = {}\n",
    "\n",
    "diversity_datasets_train['diversity_1_1']  = load_dataset('nguha/legalbench', 'diversity_1')['train']\n",
    "diversity_datasets_train['diversity_1_2']  = load_dataset('nguha/legalbench', 'diversity_1')['test']\n",
    "\n",
    "for diversity_name in diversity_names[1:]:\n",
    "    diversity_datasets_train[diversity_name] = load_dataset('nguha/legalbench', diversity_name)['train']"
   ]
  },
  {
   "cell_type": "code",
   "execution_count": 5,
   "id": "ac19c717",
   "metadata": {},
   "outputs": [],
   "source": [
    "from datasets import concatenate_datasets\n",
    "\n",
    "combined_diversity_dataset_train = concatenate_datasets(diversity_datasets_train.values())"
   ]
  },
  {
   "cell_type": "code",
   "execution_count": 6,
   "id": "f99982c6",
   "metadata": {},
   "outputs": [],
   "source": [
    "import requests\n",
    "\n",
    "url = \"https://b1b6-131-111-184-110.ngrok-free.app/insert\""
   ]
  },
  {
   "cell_type": "code",
   "execution_count": 7,
   "id": "00c4ff77",
   "metadata": {},
   "outputs": [],
   "source": [
    "for i in range(len(combined_diversity_dataset_train)):\n",
    "    payload = {\n",
    "        \"text\": combined_diversity_dataset_train[i]['text'],\n",
    "        \"answer\": combined_diversity_dataset_train[i]['answer'],\n",
    "    }\n",
    "\n",
    "    requests.post(url, json=payload)"
   ]
  },
  {
   "cell_type": "code",
   "execution_count": null,
   "id": "f14eb1a0",
   "metadata": {},
   "outputs": [],
   "source": []
  }
 ],
 "metadata": {
  "kernelspec": {
   "display_name": "Python 3.11",
   "language": "python",
   "name": "python3.11"
  },
  "language_info": {
   "codemirror_mode": {
    "name": "ipython",
    "version": 3
   },
   "file_extension": ".py",
   "mimetype": "text/x-python",
   "name": "python",
   "nbconvert_exporter": "python",
   "pygments_lexer": "ipython3",
   "version": "3.11.5"
  }
 },
 "nbformat": 4,
 "nbformat_minor": 5
}
