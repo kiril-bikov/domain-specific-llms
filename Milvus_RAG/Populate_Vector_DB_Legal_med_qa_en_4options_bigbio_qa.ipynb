{
 "cells": [
  {
   "cell_type": "markdown",
   "id": "7d89d0de",
   "metadata": {},
   "source": [
    "## Script for inserting all Med QA 4options_bigbio_qa data into a Vector Database"
   ]
  },
  {
   "cell_type": "code",
   "execution_count": 1,
   "id": "711618e6",
   "metadata": {},
   "outputs": [],
   "source": [
    "import os\n",
    "os.environ['TRANSFORMERS_CACHE'] = '/home/kmb85/rds/hpc-work/huggingface'"
   ]
  },
  {
   "cell_type": "code",
   "execution_count": 2,
   "id": "61f8cbb0",
   "metadata": {},
   "outputs": [
    {
     "name": "stderr",
     "output_type": "stream",
     "text": [
      "/home/kmb85/miniconda3/lib/python3.11/site-packages/tqdm/auto.py:21: TqdmWarning: IProgress not found. Please update jupyter and ipywidgets. See https://ipywidgets.readthedocs.io/en/stable/user_install.html\n",
      "  from .autonotebook import tqdm as notebook_tqdm\n",
      "/home/kmb85/miniconda3/lib/python3.11/site-packages/transformers/utils/hub.py:123: FutureWarning: Using `TRANSFORMERS_CACHE` is deprecated and will be removed in v5 of Transformers. Use `HF_HOME` instead.\n",
      "  warnings.warn(\n"
     ]
    }
   ],
   "source": [
    "from datasets import load_dataset"
   ]
  },
  {
   "cell_type": "code",
   "execution_count": 3,
   "id": "b311cfb6",
   "metadata": {},
   "outputs": [],
   "source": [
    "dataset = load_dataset('bigbio/med_qa', 'med_qa_en_4options_bigbio_qa')"
   ]
  },
  {
   "cell_type": "code",
   "execution_count": null,
   "id": "6c85fa6c",
   "metadata": {},
   "outputs": [],
   "source": [
    "def generate_train_prompt(data_point):\n",
    "    question = data_point['question']\n",
    "    choices = data_point['choices']\n",
    "    choices_str = ''\n",
    "    answer = data_point['answer']\n",
    "    for choice in choices:\n",
    "        choices_str += choice + \"\\n\"\n",
    "    answer = data_point[ 'answer'][0]\n",
    "    text = f'\\n###Question:\\n{question}\\n###Choices:\\n{choices_str}###Output:\\n'\n",
    "    return {'text': text, 'labels': answer}"
   ]
  },
  {
   "cell_type": "code",
   "execution_count": 6,
   "id": "f99982c6",
   "metadata": {},
   "outputs": [],
   "source": [
    "import requests\n",
    "\n",
    "url = \"https://b1b6-131-111-184-110.ngrok-free.app/insert\""
   ]
  },
  {
   "cell_type": "code",
   "execution_count": 7,
   "id": "00c4ff77",
   "metadata": {},
   "outputs": [],
   "source": [
    "for i in range(len(dataset['train'])):\n",
    "    payload = {\n",
    "        \"text\": dataset['train'][i]['text'],\n",
    "        \"answer\": dataset['train'][i]['labels'],\n",
    "    }\n",
    "\n",
    "    requests.post(url, json=payload)"
   ]
  }
 ],
 "metadata": {
  "kernelspec": {
   "display_name": "Python 3.11",
   "language": "python",
   "name": "python3.11"
  },
  "language_info": {
   "codemirror_mode": {
    "name": "ipython",
    "version": 3
   },
   "file_extension": ".py",
   "mimetype": "text/x-python",
   "name": "python",
   "nbconvert_exporter": "python",
   "pygments_lexer": "ipython3",
   "version": "3.11.5"
  }
 },
 "nbformat": 4,
 "nbformat_minor": 5
}
